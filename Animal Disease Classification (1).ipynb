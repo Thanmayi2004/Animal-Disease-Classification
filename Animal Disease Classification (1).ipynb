{
 "cells": [
  {
   "cell_type": "markdown",
   "metadata": {},
   "source": [
    "# EDA"
   ]
  },
  {
   "cell_type": "code",
   "execution_count": 1,
   "metadata": {
    "execution": {
     "iopub.execute_input": "2023-11-13T12:59:46.212073Z",
     "iopub.status.busy": "2023-11-13T12:59:46.210864Z",
     "iopub.status.idle": "2023-11-13T12:59:47.689231Z",
     "shell.execute_reply": "2023-11-13T12:59:47.688115Z"
    },
    "papermill": {
     "duration": 1.494243,
     "end_time": "2023-11-13T12:59:47.692141",
     "exception": false,
     "start_time": "2023-11-13T12:59:46.197898",
     "status": "completed"
    },
    "tags": []
   },
   "outputs": [],
   "source": [
    "import matplotlib.pyplot as plt\n",
    "import seaborn as sns\n",
    "import pandas as pd\n",
    "from sklearn.preprocessing import LabelEncoder\n",
    "from sklearn.ensemble import RandomForestClassifier,GradientBoostingClassifier\n",
    "from sklearn.linear_model import LogisticRegression\n",
    "from sklearn.naive_bayes import GaussianNB,MultinomialNB,BernoulliNB\n",
    "from sklearn.discriminant_analysis import LinearDiscriminantAnalysis,QuadraticDiscriminantAnalysis\n",
    "from sklearn.svm import SVC\n",
    "from sklearn.tree import DecisionTreeClassifier\n",
    "from sklearn.neighbors import KNeighborsClassifier\n",
    "from sklearn.ensemble import VotingClassifier\n",
    "from sklearn.metrics import classification_report\n",
    "import warnings, gc\n",
    "warnings.filterwarnings(\"ignore\")"
   ]
  },
  {
   "cell_type": "code",
   "execution_count": 2,
   "metadata": {
    "execution": {
     "iopub.execute_input": "2023-11-13T12:59:47.718229Z",
     "iopub.status.busy": "2023-11-13T12:59:47.717483Z",
     "iopub.status.idle": "2023-11-13T12:59:47.752333Z",
     "shell.execute_reply": "2023-11-13T12:59:47.750837Z"
    },
    "papermill": {
     "duration": 0.051989,
     "end_time": "2023-11-13T12:59:47.755887",
     "exception": false,
     "start_time": "2023-11-13T12:59:47.703898",
     "status": "completed"
    },
    "tags": []
   },
   "outputs": [],
   "source": [
    "data = pd.read_csv(r\"Animal.csv\")"
   ]
  },
  {
   "cell_type": "code",
   "execution_count": 3,
   "metadata": {
    "execution": {
     "iopub.execute_input": "2023-11-13T12:59:47.804735Z",
     "iopub.status.busy": "2023-11-13T12:59:47.804259Z",
     "iopub.status.idle": "2023-11-13T12:59:47.830249Z",
     "shell.execute_reply": "2023-11-13T12:59:47.829056Z"
    },
    "papermill": {
     "duration": 0.04214,
     "end_time": "2023-11-13T12:59:47.833213",
     "exception": false,
     "start_time": "2023-11-13T12:59:47.791073",
     "status": "completed"
    },
    "scrolled": true,
    "tags": []
   },
   "outputs": [
    {
     "data": {
      "text/html": [
       "<div>\n",
       "<style scoped>\n",
       "    .dataframe tbody tr th:only-of-type {\n",
       "        vertical-align: middle;\n",
       "    }\n",
       "\n",
       "    .dataframe tbody tr th {\n",
       "        vertical-align: top;\n",
       "    }\n",
       "\n",
       "    .dataframe thead th {\n",
       "        text-align: right;\n",
       "    }\n",
       "</style>\n",
       "<table border=\"1\" class=\"dataframe\">\n",
       "  <thead>\n",
       "    <tr style=\"text-align: right;\">\n",
       "      <th></th>\n",
       "      <th>AnimalName</th>\n",
       "      <th>symptoms1</th>\n",
       "      <th>symptoms2</th>\n",
       "      <th>symptoms3</th>\n",
       "      <th>symptoms4</th>\n",
       "      <th>symptoms5</th>\n",
       "      <th>Dangerous</th>\n",
       "    </tr>\n",
       "  </thead>\n",
       "  <tbody>\n",
       "    <tr>\n",
       "      <th>0</th>\n",
       "      <td>Dog</td>\n",
       "      <td>Fever</td>\n",
       "      <td>Diarrhea</td>\n",
       "      <td>Vomiting</td>\n",
       "      <td>Weight loss</td>\n",
       "      <td>Dehydration</td>\n",
       "      <td>Yes</td>\n",
       "    </tr>\n",
       "    <tr>\n",
       "      <th>1</th>\n",
       "      <td>Dog</td>\n",
       "      <td>Fever</td>\n",
       "      <td>Diarrhea</td>\n",
       "      <td>Coughing</td>\n",
       "      <td>Tiredness</td>\n",
       "      <td>Pains</td>\n",
       "      <td>Yes</td>\n",
       "    </tr>\n",
       "    <tr>\n",
       "      <th>2</th>\n",
       "      <td>Dog</td>\n",
       "      <td>Fever</td>\n",
       "      <td>Diarrhea</td>\n",
       "      <td>Coughing</td>\n",
       "      <td>Vomiting</td>\n",
       "      <td>Anorexia</td>\n",
       "      <td>Yes</td>\n",
       "    </tr>\n",
       "    <tr>\n",
       "      <th>3</th>\n",
       "      <td>Dog</td>\n",
       "      <td>Fever</td>\n",
       "      <td>Difficulty breathing</td>\n",
       "      <td>Coughing</td>\n",
       "      <td>Lethargy</td>\n",
       "      <td>Sneezing</td>\n",
       "      <td>Yes</td>\n",
       "    </tr>\n",
       "    <tr>\n",
       "      <th>4</th>\n",
       "      <td>Dog</td>\n",
       "      <td>Fever</td>\n",
       "      <td>Diarrhea</td>\n",
       "      <td>Coughing</td>\n",
       "      <td>Lethargy</td>\n",
       "      <td>Blue Eye</td>\n",
       "      <td>Yes</td>\n",
       "    </tr>\n",
       "  </tbody>\n",
       "</table>\n",
       "</div>"
      ],
      "text/plain": [
       "  AnimalName symptoms1             symptoms2 symptoms3    symptoms4  \\\n",
       "0        Dog     Fever              Diarrhea  Vomiting  Weight loss   \n",
       "1        Dog     Fever              Diarrhea  Coughing    Tiredness   \n",
       "2        Dog     Fever              Diarrhea  Coughing     Vomiting   \n",
       "3        Dog     Fever  Difficulty breathing  Coughing     Lethargy   \n",
       "4        Dog     Fever              Diarrhea  Coughing     Lethargy   \n",
       "\n",
       "     symptoms5 Dangerous  \n",
       "0  Dehydration       Yes  \n",
       "1        Pains       Yes  \n",
       "2     Anorexia       Yes  \n",
       "3     Sneezing       Yes  \n",
       "4     Blue Eye       Yes  "
      ]
     },
     "execution_count": 3,
     "metadata": {},
     "output_type": "execute_result"
    }
   ],
   "source": [
    "data.head()"
   ]
  },
  {
   "cell_type": "code",
   "execution_count": 4,
   "metadata": {
    "execution": {
     "iopub.execute_input": "2023-11-13T12:59:47.860355Z",
     "iopub.status.busy": "2023-11-13T12:59:47.858885Z",
     "iopub.status.idle": "2023-11-13T12:59:47.875179Z",
     "shell.execute_reply": "2023-11-13T12:59:47.873887Z"
    },
    "papermill": {
     "duration": 0.032555,
     "end_time": "2023-11-13T12:59:47.877909",
     "exception": false,
     "start_time": "2023-11-13T12:59:47.845354",
     "status": "completed"
    },
    "tags": []
   },
   "outputs": [
    {
     "data": {
      "text/html": [
       "<div>\n",
       "<style scoped>\n",
       "    .dataframe tbody tr th:only-of-type {\n",
       "        vertical-align: middle;\n",
       "    }\n",
       "\n",
       "    .dataframe tbody tr th {\n",
       "        vertical-align: top;\n",
       "    }\n",
       "\n",
       "    .dataframe thead th {\n",
       "        text-align: right;\n",
       "    }\n",
       "</style>\n",
       "<table border=\"1\" class=\"dataframe\">\n",
       "  <thead>\n",
       "    <tr style=\"text-align: right;\">\n",
       "      <th></th>\n",
       "      <th>AnimalName</th>\n",
       "      <th>symptoms1</th>\n",
       "      <th>symptoms2</th>\n",
       "      <th>symptoms3</th>\n",
       "      <th>symptoms4</th>\n",
       "      <th>symptoms5</th>\n",
       "      <th>Dangerous</th>\n",
       "    </tr>\n",
       "  </thead>\n",
       "  <tbody>\n",
       "    <tr>\n",
       "      <th>866</th>\n",
       "      <td>Buffaloes</td>\n",
       "      <td>Fever</td>\n",
       "      <td>Difficulty breathing</td>\n",
       "      <td>Poor Appetite</td>\n",
       "      <td>Eye and Skin change</td>\n",
       "      <td>Unable to exercise</td>\n",
       "      <td>Yes</td>\n",
       "    </tr>\n",
       "    <tr>\n",
       "      <th>867</th>\n",
       "      <td>Buffaloes</td>\n",
       "      <td>Fever</td>\n",
       "      <td>Loss of  appetite</td>\n",
       "      <td>Lession on the skin</td>\n",
       "      <td>Lethargy</td>\n",
       "      <td>Joint Pain</td>\n",
       "      <td>Yes</td>\n",
       "    </tr>\n",
       "    <tr>\n",
       "      <th>868</th>\n",
       "      <td>Buffaloes</td>\n",
       "      <td>Lesions in the nasal cavity</td>\n",
       "      <td>Lesions on nose</td>\n",
       "      <td>Vomiting</td>\n",
       "      <td>Noisy Breathing</td>\n",
       "      <td>Lesions on nose</td>\n",
       "      <td>Yes</td>\n",
       "    </tr>\n",
       "    <tr>\n",
       "      <th>869</th>\n",
       "      <td>Buffaloes</td>\n",
       "      <td>Hair loss</td>\n",
       "      <td>Dandruff</td>\n",
       "      <td>Vomiting</td>\n",
       "      <td>Crusting of the skin</td>\n",
       "      <td>Ulcerated skin</td>\n",
       "      <td>Yes</td>\n",
       "    </tr>\n",
       "    <tr>\n",
       "      <th>870</th>\n",
       "      <td>Buffaloes</td>\n",
       "      <td>Greenish-yellow nasal discharge</td>\n",
       "      <td>Lack of pigmentation</td>\n",
       "      <td>Vomiting</td>\n",
       "      <td>Lethargy</td>\n",
       "      <td>Pain on face</td>\n",
       "      <td>Yes</td>\n",
       "    </tr>\n",
       "  </tbody>\n",
       "</table>\n",
       "</div>"
      ],
      "text/plain": [
       "    AnimalName                        symptoms1             symptoms2  \\\n",
       "866  Buffaloes                            Fever  Difficulty breathing   \n",
       "867  Buffaloes                            Fever     Loss of  appetite   \n",
       "868  Buffaloes      Lesions in the nasal cavity       Lesions on nose   \n",
       "869  Buffaloes                        Hair loss              Dandruff   \n",
       "870  Buffaloes  Greenish-yellow nasal discharge  Lack of pigmentation   \n",
       "\n",
       "               symptoms3             symptoms4           symptoms5 Dangerous  \n",
       "866        Poor Appetite   Eye and Skin change  Unable to exercise       Yes  \n",
       "867  Lession on the skin              Lethargy          Joint Pain       Yes  \n",
       "868             Vomiting       Noisy Breathing     Lesions on nose       Yes  \n",
       "869             Vomiting  Crusting of the skin      Ulcerated skin       Yes  \n",
       "870             Vomiting              Lethargy        Pain on face       Yes  "
      ]
     },
     "execution_count": 4,
     "metadata": {},
     "output_type": "execute_result"
    }
   ],
   "source": [
    "data.tail()"
   ]
  },
  {
   "cell_type": "code",
   "execution_count": 5,
   "metadata": {
    "execution": {
     "iopub.execute_input": "2023-11-13T12:59:47.904453Z",
     "iopub.status.busy": "2023-11-13T12:59:47.904051Z",
     "iopub.status.idle": "2023-11-13T12:59:47.934207Z",
     "shell.execute_reply": "2023-11-13T12:59:47.932958Z"
    },
    "papermill": {
     "duration": 0.047304,
     "end_time": "2023-11-13T12:59:47.937439",
     "exception": false,
     "start_time": "2023-11-13T12:59:47.890135",
     "status": "completed"
    },
    "tags": []
   },
   "outputs": [
    {
     "name": "stdout",
     "output_type": "stream",
     "text": [
      "<class 'pandas.core.frame.DataFrame'>\n",
      "RangeIndex: 871 entries, 0 to 870\n",
      "Data columns (total 7 columns):\n",
      " #   Column      Non-Null Count  Dtype \n",
      "---  ------      --------------  ----- \n",
      " 0   AnimalName  871 non-null    object\n",
      " 1   symptoms1   871 non-null    object\n",
      " 2   symptoms2   871 non-null    object\n",
      " 3   symptoms3   871 non-null    object\n",
      " 4   symptoms4   871 non-null    object\n",
      " 5   symptoms5   871 non-null    object\n",
      " 6   Dangerous   869 non-null    object\n",
      "dtypes: object(7)\n",
      "memory usage: 47.8+ KB\n"
     ]
    }
   ],
   "source": [
    "data.info()"
   ]
  },
  {
   "cell_type": "code",
   "execution_count": 6,
   "metadata": {
    "execution": {
     "iopub.execute_input": "2023-11-13T12:59:48.014949Z",
     "iopub.status.busy": "2023-11-13T12:59:48.014486Z",
     "iopub.status.idle": "2023-11-13T12:59:48.025015Z",
     "shell.execute_reply": "2023-11-13T12:59:48.023723Z"
    },
    "papermill": {
     "duration": 0.028402,
     "end_time": "2023-11-13T12:59:48.027897",
     "exception": false,
     "start_time": "2023-11-13T12:59:47.999495",
     "status": "completed"
    },
    "tags": []
   },
   "outputs": [
    {
     "data": {
      "text/plain": [
       "AnimalName    0\n",
       "symptoms1     0\n",
       "symptoms2     0\n",
       "symptoms3     0\n",
       "symptoms4     0\n",
       "symptoms5     0\n",
       "Dangerous     2\n",
       "dtype: int64"
      ]
     },
     "execution_count": 6,
     "metadata": {},
     "output_type": "execute_result"
    }
   ],
   "source": [
    "data.isna().sum()"
   ]
  },
  {
   "cell_type": "code",
   "execution_count": 7,
   "metadata": {
    "execution": {
     "iopub.execute_input": "2023-11-13T12:59:48.081863Z",
     "iopub.status.busy": "2023-11-13T12:59:48.080310Z",
     "iopub.status.idle": "2023-11-13T12:59:48.096569Z",
     "shell.execute_reply": "2023-11-13T12:59:48.095339Z"
    },
    "papermill": {
     "duration": 0.034151,
     "end_time": "2023-11-13T12:59:48.099428",
     "exception": false,
     "start_time": "2023-11-13T12:59:48.065277",
     "status": "completed"
    },
    "tags": []
   },
   "outputs": [
    {
     "data": {
      "text/html": [
       "<div>\n",
       "<style scoped>\n",
       "    .dataframe tbody tr th:only-of-type {\n",
       "        vertical-align: middle;\n",
       "    }\n",
       "\n",
       "    .dataframe tbody tr th {\n",
       "        vertical-align: top;\n",
       "    }\n",
       "\n",
       "    .dataframe thead th {\n",
       "        text-align: right;\n",
       "    }\n",
       "</style>\n",
       "<table border=\"1\" class=\"dataframe\">\n",
       "  <thead>\n",
       "    <tr style=\"text-align: right;\">\n",
       "      <th></th>\n",
       "      <th>AnimalName</th>\n",
       "      <th>symptoms1</th>\n",
       "      <th>symptoms2</th>\n",
       "      <th>symptoms3</th>\n",
       "      <th>symptoms4</th>\n",
       "      <th>symptoms5</th>\n",
       "      <th>Dangerous</th>\n",
       "    </tr>\n",
       "  </thead>\n",
       "  <tbody>\n",
       "    <tr>\n",
       "      <th>269</th>\n",
       "      <td>Sheep</td>\n",
       "      <td>Teeth griding</td>\n",
       "      <td>Apathy</td>\n",
       "      <td>Dehydration</td>\n",
       "      <td>Ruminal stasis</td>\n",
       "      <td>Watery faeces</td>\n",
       "      <td>NaN</td>\n",
       "    </tr>\n",
       "    <tr>\n",
       "      <th>695</th>\n",
       "      <td>Buffaloes</td>\n",
       "      <td>Teeth griding</td>\n",
       "      <td>Apathy</td>\n",
       "      <td>Dehydration</td>\n",
       "      <td>Ruminal stasis</td>\n",
       "      <td>Watery faeces</td>\n",
       "      <td>NaN</td>\n",
       "    </tr>\n",
       "  </tbody>\n",
       "</table>\n",
       "</div>"
      ],
      "text/plain": [
       "    AnimalName      symptoms1 symptoms2    symptoms3       symptoms4  \\\n",
       "269      Sheep  Teeth griding    Apathy  Dehydration  Ruminal stasis   \n",
       "695  Buffaloes  Teeth griding    Apathy  Dehydration  Ruminal stasis   \n",
       "\n",
       "         symptoms5 Dangerous  \n",
       "269  Watery faeces       NaN  \n",
       "695  Watery faeces       NaN  "
      ]
     },
     "execution_count": 7,
     "metadata": {},
     "output_type": "execute_result"
    }
   ],
   "source": [
    "data[data['Dangerous'].isna()]"
   ]
  },
  {
   "cell_type": "code",
   "execution_count": 8,
   "metadata": {
    "execution": {
     "iopub.execute_input": "2023-11-13T12:59:48.153109Z",
     "iopub.status.busy": "2023-11-13T12:59:48.152595Z",
     "iopub.status.idle": "2023-11-13T12:59:48.167575Z",
     "shell.execute_reply": "2023-11-13T12:59:48.166455Z"
    },
    "papermill": {
     "duration": 0.031976,
     "end_time": "2023-11-13T12:59:48.170069",
     "exception": false,
     "start_time": "2023-11-13T12:59:48.138093",
     "status": "completed"
    },
    "tags": []
   },
   "outputs": [
    {
     "data": {
      "text/html": [
       "<div>\n",
       "<style scoped>\n",
       "    .dataframe tbody tr th:only-of-type {\n",
       "        vertical-align: middle;\n",
       "    }\n",
       "\n",
       "    .dataframe tbody tr th {\n",
       "        vertical-align: top;\n",
       "    }\n",
       "\n",
       "    .dataframe thead th {\n",
       "        text-align: right;\n",
       "    }\n",
       "</style>\n",
       "<table border=\"1\" class=\"dataframe\">\n",
       "  <thead>\n",
       "    <tr style=\"text-align: right;\">\n",
       "      <th></th>\n",
       "      <th>AnimalName</th>\n",
       "      <th>symptoms1</th>\n",
       "      <th>symptoms2</th>\n",
       "      <th>symptoms3</th>\n",
       "      <th>symptoms4</th>\n",
       "      <th>symptoms5</th>\n",
       "      <th>Dangerous</th>\n",
       "    </tr>\n",
       "  </thead>\n",
       "  <tbody>\n",
       "    <tr>\n",
       "      <th>269</th>\n",
       "      <td>Sheep</td>\n",
       "      <td>Teeth griding</td>\n",
       "      <td>Apathy</td>\n",
       "      <td>Dehydration</td>\n",
       "      <td>Ruminal stasis</td>\n",
       "      <td>Watery faeces</td>\n",
       "      <td>NaN</td>\n",
       "    </tr>\n",
       "    <tr>\n",
       "      <th>695</th>\n",
       "      <td>Buffaloes</td>\n",
       "      <td>Teeth griding</td>\n",
       "      <td>Apathy</td>\n",
       "      <td>Dehydration</td>\n",
       "      <td>Ruminal stasis</td>\n",
       "      <td>Watery faeces</td>\n",
       "      <td>NaN</td>\n",
       "    </tr>\n",
       "  </tbody>\n",
       "</table>\n",
       "</div>"
      ],
      "text/plain": [
       "    AnimalName      symptoms1 symptoms2    symptoms3       symptoms4  \\\n",
       "269      Sheep  Teeth griding    Apathy  Dehydration  Ruminal stasis   \n",
       "695  Buffaloes  Teeth griding    Apathy  Dehydration  Ruminal stasis   \n",
       "\n",
       "         symptoms5 Dangerous  \n",
       "269  Watery faeces       NaN  \n",
       "695  Watery faeces       NaN  "
      ]
     },
     "execution_count": 8,
     "metadata": {},
     "output_type": "execute_result"
    }
   ],
   "source": [
    "data[(data['symptoms1'] == 'Teeth griding')] "
   ]
  },
  {
   "cell_type": "code",
   "execution_count": 9,
   "metadata": {
    "execution": {
     "iopub.execute_input": "2023-11-13T12:59:48.198840Z",
     "iopub.status.busy": "2023-11-13T12:59:48.198427Z",
     "iopub.status.idle": "2023-11-13T12:59:48.215131Z",
     "shell.execute_reply": "2023-11-13T12:59:48.213590Z"
    },
    "papermill": {
     "duration": 0.034553,
     "end_time": "2023-11-13T12:59:48.217852",
     "exception": false,
     "start_time": "2023-11-13T12:59:48.183299",
     "status": "completed"
    },
    "tags": []
   },
   "outputs": [
    {
     "data": {
      "text/html": [
       "<div>\n",
       "<style scoped>\n",
       "    .dataframe tbody tr th:only-of-type {\n",
       "        vertical-align: middle;\n",
       "    }\n",
       "\n",
       "    .dataframe tbody tr th {\n",
       "        vertical-align: top;\n",
       "    }\n",
       "\n",
       "    .dataframe thead th {\n",
       "        text-align: right;\n",
       "    }\n",
       "</style>\n",
       "<table border=\"1\" class=\"dataframe\">\n",
       "  <thead>\n",
       "    <tr style=\"text-align: right;\">\n",
       "      <th></th>\n",
       "      <th>AnimalName</th>\n",
       "      <th>symptoms1</th>\n",
       "      <th>symptoms2</th>\n",
       "      <th>symptoms3</th>\n",
       "      <th>symptoms4</th>\n",
       "      <th>symptoms5</th>\n",
       "      <th>Dangerous</th>\n",
       "    </tr>\n",
       "  </thead>\n",
       "  <tbody>\n",
       "    <tr>\n",
       "      <th>269</th>\n",
       "      <td>Sheep</td>\n",
       "      <td>Teeth griding</td>\n",
       "      <td>Apathy</td>\n",
       "      <td>Dehydration</td>\n",
       "      <td>Ruminal stasis</td>\n",
       "      <td>Watery faeces</td>\n",
       "      <td>NaN</td>\n",
       "    </tr>\n",
       "    <tr>\n",
       "      <th>695</th>\n",
       "      <td>Buffaloes</td>\n",
       "      <td>Teeth griding</td>\n",
       "      <td>Apathy</td>\n",
       "      <td>Dehydration</td>\n",
       "      <td>Ruminal stasis</td>\n",
       "      <td>Watery faeces</td>\n",
       "      <td>NaN</td>\n",
       "    </tr>\n",
       "  </tbody>\n",
       "</table>\n",
       "</div>"
      ],
      "text/plain": [
       "    AnimalName      symptoms1 symptoms2    symptoms3       symptoms4  \\\n",
       "269      Sheep  Teeth griding    Apathy  Dehydration  Ruminal stasis   \n",
       "695  Buffaloes  Teeth griding    Apathy  Dehydration  Ruminal stasis   \n",
       "\n",
       "         symptoms5 Dangerous  \n",
       "269  Watery faeces       NaN  \n",
       "695  Watery faeces       NaN  "
      ]
     },
     "execution_count": 9,
     "metadata": {},
     "output_type": "execute_result"
    }
   ],
   "source": [
    "data[(data['symptoms2'] == 'Apathy') ]"
   ]
  },
  {
   "cell_type": "code",
   "execution_count": 10,
   "metadata": {
    "execution": {
     "iopub.execute_input": "2023-11-13T12:59:48.245908Z",
     "iopub.status.busy": "2023-11-13T12:59:48.245467Z",
     "iopub.status.idle": "2023-11-13T12:59:48.263471Z",
     "shell.execute_reply": "2023-11-13T12:59:48.261871Z"
    },
    "papermill": {
     "duration": 0.035092,
     "end_time": "2023-11-13T12:59:48.266077",
     "exception": false,
     "start_time": "2023-11-13T12:59:48.230985",
     "status": "completed"
    },
    "tags": []
   },
   "outputs": [
    {
     "data": {
      "text/html": [
       "<div>\n",
       "<style scoped>\n",
       "    .dataframe tbody tr th:only-of-type {\n",
       "        vertical-align: middle;\n",
       "    }\n",
       "\n",
       "    .dataframe tbody tr th {\n",
       "        vertical-align: top;\n",
       "    }\n",
       "\n",
       "    .dataframe thead th {\n",
       "        text-align: right;\n",
       "    }\n",
       "</style>\n",
       "<table border=\"1\" class=\"dataframe\">\n",
       "  <thead>\n",
       "    <tr style=\"text-align: right;\">\n",
       "      <th></th>\n",
       "      <th>AnimalName</th>\n",
       "      <th>symptoms1</th>\n",
       "      <th>symptoms2</th>\n",
       "      <th>symptoms3</th>\n",
       "      <th>symptoms4</th>\n",
       "      <th>symptoms5</th>\n",
       "      <th>Dangerous</th>\n",
       "    </tr>\n",
       "  </thead>\n",
       "  <tbody>\n",
       "    <tr>\n",
       "      <th>267</th>\n",
       "      <td>Sheep</td>\n",
       "      <td>Fever</td>\n",
       "      <td>Wasting</td>\n",
       "      <td>Dehydration</td>\n",
       "      <td>Deability</td>\n",
       "      <td>Weakness</td>\n",
       "      <td>Yes</td>\n",
       "    </tr>\n",
       "    <tr>\n",
       "      <th>269</th>\n",
       "      <td>Sheep</td>\n",
       "      <td>Teeth griding</td>\n",
       "      <td>Apathy</td>\n",
       "      <td>Dehydration</td>\n",
       "      <td>Ruminal stasis</td>\n",
       "      <td>Watery faeces</td>\n",
       "      <td>NaN</td>\n",
       "    </tr>\n",
       "    <tr>\n",
       "      <th>292</th>\n",
       "      <td>Sheep</td>\n",
       "      <td>Poor immune function</td>\n",
       "      <td>Achomotrica</td>\n",
       "      <td>Dehydration</td>\n",
       "      <td>Death</td>\n",
       "      <td>Pains</td>\n",
       "      <td>Yes</td>\n",
       "    </tr>\n",
       "    <tr>\n",
       "      <th>314</th>\n",
       "      <td>Sheep</td>\n",
       "      <td>Inability to digest</td>\n",
       "      <td>Diarrhea</td>\n",
       "      <td>Dehydration</td>\n",
       "      <td>Weight loss</td>\n",
       "      <td>Anemia</td>\n",
       "      <td>Yes</td>\n",
       "    </tr>\n",
       "    <tr>\n",
       "      <th>693</th>\n",
       "      <td>Buffaloes</td>\n",
       "      <td>Fever</td>\n",
       "      <td>Wasting</td>\n",
       "      <td>Dehydration</td>\n",
       "      <td>Deability</td>\n",
       "      <td>Weakness</td>\n",
       "      <td>Yes</td>\n",
       "    </tr>\n",
       "    <tr>\n",
       "      <th>695</th>\n",
       "      <td>Buffaloes</td>\n",
       "      <td>Teeth griding</td>\n",
       "      <td>Apathy</td>\n",
       "      <td>Dehydration</td>\n",
       "      <td>Ruminal stasis</td>\n",
       "      <td>Watery faeces</td>\n",
       "      <td>NaN</td>\n",
       "    </tr>\n",
       "    <tr>\n",
       "      <th>718</th>\n",
       "      <td>Pig</td>\n",
       "      <td>Poor immune function</td>\n",
       "      <td>Achomotrica</td>\n",
       "      <td>Dehydration</td>\n",
       "      <td>Death</td>\n",
       "      <td>Pains</td>\n",
       "      <td>Yes</td>\n",
       "    </tr>\n",
       "    <tr>\n",
       "      <th>740</th>\n",
       "      <td>Pig</td>\n",
       "      <td>Inability to digest</td>\n",
       "      <td>Diarrhea</td>\n",
       "      <td>Dehydration</td>\n",
       "      <td>Weight loss</td>\n",
       "      <td>Anemia</td>\n",
       "      <td>Yes</td>\n",
       "    </tr>\n",
       "  </tbody>\n",
       "</table>\n",
       "</div>"
      ],
      "text/plain": [
       "    AnimalName             symptoms1    symptoms2    symptoms3  \\\n",
       "267      Sheep                 Fever      Wasting  Dehydration   \n",
       "269      Sheep         Teeth griding       Apathy  Dehydration   \n",
       "292      Sheep  Poor immune function  Achomotrica  Dehydration   \n",
       "314      Sheep   Inability to digest     Diarrhea  Dehydration   \n",
       "693  Buffaloes                 Fever      Wasting  Dehydration   \n",
       "695  Buffaloes         Teeth griding       Apathy  Dehydration   \n",
       "718        Pig  Poor immune function  Achomotrica  Dehydration   \n",
       "740        Pig   Inability to digest     Diarrhea  Dehydration   \n",
       "\n",
       "          symptoms4      symptoms5 Dangerous  \n",
       "267       Deability       Weakness       Yes  \n",
       "269  Ruminal stasis  Watery faeces       NaN  \n",
       "292           Death          Pains       Yes  \n",
       "314     Weight loss         Anemia       Yes  \n",
       "693       Deability       Weakness       Yes  \n",
       "695  Ruminal stasis  Watery faeces       NaN  \n",
       "718           Death          Pains       Yes  \n",
       "740     Weight loss         Anemia       Yes  "
      ]
     },
     "execution_count": 10,
     "metadata": {},
     "output_type": "execute_result"
    }
   ],
   "source": [
    "data[(data['symptoms3'] == 'Dehydration')]"
   ]
  },
  {
   "cell_type": "code",
   "execution_count": 11,
   "metadata": {
    "execution": {
     "iopub.execute_input": "2023-11-13T12:59:48.294502Z",
     "iopub.status.busy": "2023-11-13T12:59:48.294072Z",
     "iopub.status.idle": "2023-11-13T12:59:48.310197Z",
     "shell.execute_reply": "2023-11-13T12:59:48.308848Z"
    },
    "papermill": {
     "duration": 0.033005,
     "end_time": "2023-11-13T12:59:48.312492",
     "exception": false,
     "start_time": "2023-11-13T12:59:48.279487",
     "status": "completed"
    },
    "tags": []
   },
   "outputs": [
    {
     "data": {
      "text/html": [
       "<div>\n",
       "<style scoped>\n",
       "    .dataframe tbody tr th:only-of-type {\n",
       "        vertical-align: middle;\n",
       "    }\n",
       "\n",
       "    .dataframe tbody tr th {\n",
       "        vertical-align: top;\n",
       "    }\n",
       "\n",
       "    .dataframe thead th {\n",
       "        text-align: right;\n",
       "    }\n",
       "</style>\n",
       "<table border=\"1\" class=\"dataframe\">\n",
       "  <thead>\n",
       "    <tr style=\"text-align: right;\">\n",
       "      <th></th>\n",
       "      <th>AnimalName</th>\n",
       "      <th>symptoms1</th>\n",
       "      <th>symptoms2</th>\n",
       "      <th>symptoms3</th>\n",
       "      <th>symptoms4</th>\n",
       "      <th>symptoms5</th>\n",
       "      <th>Dangerous</th>\n",
       "    </tr>\n",
       "  </thead>\n",
       "  <tbody>\n",
       "    <tr>\n",
       "      <th>269</th>\n",
       "      <td>Sheep</td>\n",
       "      <td>Teeth griding</td>\n",
       "      <td>Apathy</td>\n",
       "      <td>Dehydration</td>\n",
       "      <td>Ruminal stasis</td>\n",
       "      <td>Watery faeces</td>\n",
       "      <td>NaN</td>\n",
       "    </tr>\n",
       "    <tr>\n",
       "      <th>695</th>\n",
       "      <td>Buffaloes</td>\n",
       "      <td>Teeth griding</td>\n",
       "      <td>Apathy</td>\n",
       "      <td>Dehydration</td>\n",
       "      <td>Ruminal stasis</td>\n",
       "      <td>Watery faeces</td>\n",
       "      <td>NaN</td>\n",
       "    </tr>\n",
       "  </tbody>\n",
       "</table>\n",
       "</div>"
      ],
      "text/plain": [
       "    AnimalName      symptoms1 symptoms2    symptoms3       symptoms4  \\\n",
       "269      Sheep  Teeth griding    Apathy  Dehydration  Ruminal stasis   \n",
       "695  Buffaloes  Teeth griding    Apathy  Dehydration  Ruminal stasis   \n",
       "\n",
       "         symptoms5 Dangerous  \n",
       "269  Watery faeces       NaN  \n",
       "695  Watery faeces       NaN  "
      ]
     },
     "execution_count": 11,
     "metadata": {},
     "output_type": "execute_result"
    }
   ],
   "source": [
    "data[(data['symptoms4'] == 'Ruminal stasis')]"
   ]
  },
  {
   "cell_type": "code",
   "execution_count": 12,
   "metadata": {
    "execution": {
     "iopub.execute_input": "2023-11-13T12:59:48.341345Z",
     "iopub.status.busy": "2023-11-13T12:59:48.340766Z",
     "iopub.status.idle": "2023-11-13T12:59:48.357925Z",
     "shell.execute_reply": "2023-11-13T12:59:48.357038Z"
    },
    "papermill": {
     "duration": 0.034347,
     "end_time": "2023-11-13T12:59:48.360226",
     "exception": false,
     "start_time": "2023-11-13T12:59:48.325879",
     "status": "completed"
    },
    "tags": []
   },
   "outputs": [
    {
     "data": {
      "text/html": [
       "<div>\n",
       "<style scoped>\n",
       "    .dataframe tbody tr th:only-of-type {\n",
       "        vertical-align: middle;\n",
       "    }\n",
       "\n",
       "    .dataframe tbody tr th {\n",
       "        vertical-align: top;\n",
       "    }\n",
       "\n",
       "    .dataframe thead th {\n",
       "        text-align: right;\n",
       "    }\n",
       "</style>\n",
       "<table border=\"1\" class=\"dataframe\">\n",
       "  <thead>\n",
       "    <tr style=\"text-align: right;\">\n",
       "      <th></th>\n",
       "      <th>AnimalName</th>\n",
       "      <th>symptoms1</th>\n",
       "      <th>symptoms2</th>\n",
       "      <th>symptoms3</th>\n",
       "      <th>symptoms4</th>\n",
       "      <th>symptoms5</th>\n",
       "      <th>Dangerous</th>\n",
       "    </tr>\n",
       "  </thead>\n",
       "  <tbody>\n",
       "    <tr>\n",
       "      <th>269</th>\n",
       "      <td>Sheep</td>\n",
       "      <td>Teeth griding</td>\n",
       "      <td>Apathy</td>\n",
       "      <td>Dehydration</td>\n",
       "      <td>Ruminal stasis</td>\n",
       "      <td>Watery faeces</td>\n",
       "      <td>NaN</td>\n",
       "    </tr>\n",
       "    <tr>\n",
       "      <th>695</th>\n",
       "      <td>Buffaloes</td>\n",
       "      <td>Teeth griding</td>\n",
       "      <td>Apathy</td>\n",
       "      <td>Dehydration</td>\n",
       "      <td>Ruminal stasis</td>\n",
       "      <td>Watery faeces</td>\n",
       "      <td>NaN</td>\n",
       "    </tr>\n",
       "  </tbody>\n",
       "</table>\n",
       "</div>"
      ],
      "text/plain": [
       "    AnimalName      symptoms1 symptoms2    symptoms3       symptoms4  \\\n",
       "269      Sheep  Teeth griding    Apathy  Dehydration  Ruminal stasis   \n",
       "695  Buffaloes  Teeth griding    Apathy  Dehydration  Ruminal stasis   \n",
       "\n",
       "         symptoms5 Dangerous  \n",
       "269  Watery faeces       NaN  \n",
       "695  Watery faeces       NaN  "
      ]
     },
     "execution_count": 12,
     "metadata": {},
     "output_type": "execute_result"
    }
   ],
   "source": [
    "data[(data['symptoms5'] == 'Watery faeces')]"
   ]
  },
  {
   "cell_type": "code",
   "execution_count": 13,
   "metadata": {
    "execution": {
     "iopub.execute_input": "2023-11-13T12:59:48.420593Z",
     "iopub.status.busy": "2023-11-13T12:59:48.420133Z",
     "iopub.status.idle": "2023-11-13T12:59:48.429093Z",
     "shell.execute_reply": "2023-11-13T12:59:48.427763Z"
    },
    "papermill": {
     "duration": 0.029897,
     "end_time": "2023-11-13T12:59:48.431938",
     "exception": false,
     "start_time": "2023-11-13T12:59:48.402041",
     "status": "completed"
    },
    "tags": []
   },
   "outputs": [],
   "source": [
    "data.dropna(inplace = True, axis = 0)"
   ]
  },
  {
   "cell_type": "code",
   "execution_count": 14,
   "metadata": {
    "execution": {
     "iopub.execute_input": "2023-11-13T12:59:48.615080Z",
     "iopub.status.busy": "2023-11-13T12:59:48.614645Z",
     "iopub.status.idle": "2023-11-13T12:59:48.622669Z",
     "shell.execute_reply": "2023-11-13T12:59:48.621280Z"
    },
    "papermill": {
     "duration": 0.026958,
     "end_time": "2023-11-13T12:59:48.625143",
     "exception": false,
     "start_time": "2023-11-13T12:59:48.598185",
     "status": "completed"
    },
    "tags": []
   },
   "outputs": [
    {
     "data": {
      "text/plain": [
       "(869, 7)"
      ]
     },
     "execution_count": 14,
     "metadata": {},
     "output_type": "execute_result"
    }
   ],
   "source": [
    "data.shape"
   ]
  },
  {
   "cell_type": "code",
   "execution_count": 15,
   "metadata": {
    "execution": {
     "iopub.execute_input": "2023-11-13T12:59:48.656380Z",
     "iopub.status.busy": "2023-11-13T12:59:48.655638Z",
     "iopub.status.idle": "2023-11-13T12:59:48.670204Z",
     "shell.execute_reply": "2023-11-13T12:59:48.668829Z"
    },
    "papermill": {
     "duration": 0.033476,
     "end_time": "2023-11-13T12:59:48.672767",
     "exception": false,
     "start_time": "2023-11-13T12:59:48.639291",
     "status": "completed"
    },
    "tags": []
   },
   "outputs": [
    {
     "data": {
      "text/plain": [
       "Birds                 37\n",
       "Black-tailed deer      1\n",
       "Buffaloes            128\n",
       "Cattle                21\n",
       "Chicken                9\n",
       "Deer                  38\n",
       "Dog                   34\n",
       "Dogs                   1\n",
       "Donkey                38\n",
       "Duck                  56\n",
       "Elephant              59\n",
       "Elk                    1\n",
       "Fowl                  62\n",
       "Fox                    7\n",
       "Fox                    1\n",
       "Goat                  26\n",
       "Goats                  2\n",
       "Hamster               18\n",
       "Horse                 10\n",
       "Hyaenas                1\n",
       "Lion                  16\n",
       "Monkey                28\n",
       "Moos                   1\n",
       "Mule deer              1\n",
       "Other Birds            6\n",
       "Pig                   63\n",
       "Pigs                   3\n",
       "Rabbit                11\n",
       "Reindeer               1\n",
       "Sheep                109\n",
       "Sika deer              1\n",
       "Tiger                 17\n",
       "Turtle                 4\n",
       "Wapiti                 1\n",
       "White-tailed deer      1\n",
       "Wolves                 1\n",
       "cat                   36\n",
       "cattle                 1\n",
       "chicken                4\n",
       "cow                    3\n",
       "donkey                 2\n",
       "duck                   1\n",
       "horse                  5\n",
       "mammal                 1\n",
       "mules                  1\n",
       "snake                  1\n",
       "Name: AnimalName, dtype: int64"
      ]
     },
     "execution_count": 15,
     "metadata": {},
     "output_type": "execute_result"
    }
   ],
   "source": [
    "data['AnimalName'].value_counts().sort_index()"
   ]
  },
  {
   "cell_type": "code",
   "execution_count": 16,
   "metadata": {
    "execution": {
     "iopub.execute_input": "2023-11-13T12:59:48.703501Z",
     "iopub.status.busy": "2023-11-13T12:59:48.703029Z",
     "iopub.status.idle": "2023-11-13T12:59:48.713044Z",
     "shell.execute_reply": "2023-11-13T12:59:48.711754Z"
    },
    "papermill": {
     "duration": 0.028648,
     "end_time": "2023-11-13T12:59:48.715661",
     "exception": false,
     "start_time": "2023-11-13T12:59:48.687013",
     "status": "completed"
    },
    "tags": []
   },
   "outputs": [
    {
     "data": {
      "text/plain": [
       "array(['Dog', 'cat', 'Rabbit', 'cow', 'chicken', 'cattle', 'mammal',\n",
       "       'Cattle', 'Horse', 'Turtle', 'Hamster', 'Lion', 'Fox', 'Fox ',\n",
       "       'Goat', 'Deer', 'Chicken', 'Monkey', 'Birds', 'Sheep', 'Pigs',\n",
       "       'Fowl', 'Duck', 'Other Birds', 'snake', 'horse', 'duck', 'donkey',\n",
       "       'Donkey', 'mules', 'Elephant', 'Elk', 'Wapiti', 'Mule deer',\n",
       "       'Black-tailed deer', 'Sika deer', 'White-tailed deer', 'Reindeer',\n",
       "       'Moos', 'Tiger', 'Goats', 'Buffaloes', 'Dogs', 'Wolves', 'Hyaenas',\n",
       "       'Pig'], dtype=object)"
      ]
     },
     "execution_count": 16,
     "metadata": {},
     "output_type": "execute_result"
    }
   ],
   "source": [
    "data['AnimalName'].unique()"
   ]
  },
  {
   "cell_type": "code",
   "execution_count": 17,
   "metadata": {
    "execution": {
     "iopub.execute_input": "2023-11-13T12:59:48.778804Z",
     "iopub.status.busy": "2023-11-13T12:59:48.778383Z",
     "iopub.status.idle": "2023-11-13T12:59:48.787271Z",
     "shell.execute_reply": "2023-11-13T12:59:48.786074Z"
    },
    "papermill": {
     "duration": 0.028051,
     "end_time": "2023-11-13T12:59:48.789792",
     "exception": false,
     "start_time": "2023-11-13T12:59:48.761741",
     "status": "completed"
    },
    "tags": []
   },
   "outputs": [],
   "source": [
    "data['AnimalName'] = data['AnimalName'].str.capitalize()\n"
   ]
  },
  {
   "cell_type": "code",
   "execution_count": 18,
   "metadata": {
    "execution": {
     "iopub.execute_input": "2023-11-13T12:59:48.822141Z",
     "iopub.status.busy": "2023-11-13T12:59:48.821279Z",
     "iopub.status.idle": "2023-11-13T12:59:48.832239Z",
     "shell.execute_reply": "2023-11-13T12:59:48.831045Z"
    },
    "papermill": {
     "duration": 0.029657,
     "end_time": "2023-11-13T12:59:48.834589",
     "exception": false,
     "start_time": "2023-11-13T12:59:48.804932",
     "status": "completed"
    },
    "tags": []
   },
   "outputs": [],
   "source": [
    "data['AnimalName'].replace({'Black-tailed deer':'Deer','White-tailed deer':'Deer','Mule deer':'Deer','Sika deer':'Deer',\n",
    "                            'Other birds': 'Birds', 'Dogs': 'Dog', 'Fox ':'Fox', 'Goats': 'Goat'\n",
    "                            \n",
    "                            }, inplace = True)"
   ]
  },
  {
   "cell_type": "code",
   "execution_count": 19,
   "metadata": {
    "execution": {
     "iopub.execute_input": "2023-11-13T12:59:48.867130Z",
     "iopub.status.busy": "2023-11-13T12:59:48.866711Z",
     "iopub.status.idle": "2023-11-13T12:59:48.874086Z",
     "shell.execute_reply": "2023-11-13T12:59:48.873296Z"
    },
    "papermill": {
     "duration": 0.026147,
     "end_time": "2023-11-13T12:59:48.876296",
     "exception": false,
     "start_time": "2023-11-13T12:59:48.850149",
     "status": "completed"
    },
    "tags": []
   },
   "outputs": [
    {
     "data": {
      "text/plain": [
       "array(['Yes', 'No'], dtype=object)"
      ]
     },
     "execution_count": 19,
     "metadata": {},
     "output_type": "execute_result"
    }
   ],
   "source": [
    "data['Dangerous'].unique()"
   ]
  },
  {
   "cell_type": "markdown",
   "metadata": {
    "papermill": {
     "duration": 0.014523,
     "end_time": "2023-11-13T12:59:48.905784",
     "exception": false,
     "start_time": "2023-11-13T12:59:48.891261",
     "status": "completed"
    },
    "tags": []
   },
   "source": [
    "# Data Encoding"
   ]
  },
  {
   "cell_type": "code",
   "execution_count": 20,
   "metadata": {
    "execution": {
     "iopub.execute_input": "2023-11-13T12:59:48.937322Z",
     "iopub.status.busy": "2023-11-13T12:59:48.936920Z",
     "iopub.status.idle": "2023-11-13T12:59:49.212454Z",
     "shell.execute_reply": "2023-11-13T12:59:49.211604Z"
    },
    "papermill": {
     "duration": 0.294579,
     "end_time": "2023-11-13T12:59:49.215236",
     "exception": false,
     "start_time": "2023-11-13T12:59:48.920657",
     "status": "completed"
    },
    "tags": []
   },
   "outputs": [],
   "source": [
    "\n",
    "for col in data.columns : \n",
    "    if data[col].dtypes =='object' : \n",
    "        enc  = LabelEncoder()\n",
    "        enc.fit(data[col].astype(str))\n",
    "        data[f'{col}_'] = enc.transform(data[col].astype(str))\n",
    "        data.drop([col],axis=1, inplace=True)      "
   ]
  },
  {
   "cell_type": "code",
   "execution_count": 21,
   "metadata": {
    "execution": {
     "iopub.execute_input": "2023-11-13T12:59:49.247240Z",
     "iopub.status.busy": "2023-11-13T12:59:49.246110Z",
     "iopub.status.idle": "2023-11-13T12:59:49.252598Z",
     "shell.execute_reply": "2023-11-13T12:59:49.251280Z"
    },
    "papermill": {
     "duration": 0.024887,
     "end_time": "2023-11-13T12:59:49.255070",
     "exception": false,
     "start_time": "2023-11-13T12:59:49.230183",
     "status": "completed"
    },
    "tags": []
   },
   "outputs": [],
   "source": [
    "data.columns = ['AnimalName', 'symptoms1', 'symptoms2', 'symptoms3', 'symptoms4', 'symptoms5', 'Dangerous']"
   ]
  },
  {
   "cell_type": "code",
   "execution_count": 22,
   "metadata": {},
   "outputs": [
    {
     "data": {
      "text/html": [
       "<div>\n",
       "<style scoped>\n",
       "    .dataframe tbody tr th:only-of-type {\n",
       "        vertical-align: middle;\n",
       "    }\n",
       "\n",
       "    .dataframe tbody tr th {\n",
       "        vertical-align: top;\n",
       "    }\n",
       "\n",
       "    .dataframe thead th {\n",
       "        text-align: right;\n",
       "    }\n",
       "</style>\n",
       "<table border=\"1\" class=\"dataframe\">\n",
       "  <thead>\n",
       "    <tr style=\"text-align: right;\">\n",
       "      <th></th>\n",
       "      <th>AnimalName</th>\n",
       "      <th>symptoms1</th>\n",
       "      <th>symptoms2</th>\n",
       "      <th>symptoms3</th>\n",
       "      <th>symptoms4</th>\n",
       "      <th>symptoms5</th>\n",
       "      <th>Dangerous</th>\n",
       "    </tr>\n",
       "  </thead>\n",
       "  <tbody>\n",
       "    <tr>\n",
       "      <th>0</th>\n",
       "      <td>7</td>\n",
       "      <td>63</td>\n",
       "      <td>30</td>\n",
       "      <td>179</td>\n",
       "      <td>181</td>\n",
       "      <td>32</td>\n",
       "      <td>1</td>\n",
       "    </tr>\n",
       "    <tr>\n",
       "      <th>1</th>\n",
       "      <td>7</td>\n",
       "      <td>63</td>\n",
       "      <td>30</td>\n",
       "      <td>31</td>\n",
       "      <td>164</td>\n",
       "      <td>113</td>\n",
       "      <td>1</td>\n",
       "    </tr>\n",
       "    <tr>\n",
       "      <th>2</th>\n",
       "      <td>7</td>\n",
       "      <td>63</td>\n",
       "      <td>30</td>\n",
       "      <td>31</td>\n",
       "      <td>172</td>\n",
       "      <td>8</td>\n",
       "      <td>1</td>\n",
       "    </tr>\n",
       "    <tr>\n",
       "      <th>3</th>\n",
       "      <td>7</td>\n",
       "      <td>63</td>\n",
       "      <td>33</td>\n",
       "      <td>31</td>\n",
       "      <td>87</td>\n",
       "      <td>142</td>\n",
       "      <td>1</td>\n",
       "    </tr>\n",
       "    <tr>\n",
       "      <th>4</th>\n",
       "      <td>7</td>\n",
       "      <td>63</td>\n",
       "      <td>30</td>\n",
       "      <td>31</td>\n",
       "      <td>87</td>\n",
       "      <td>21</td>\n",
       "      <td>1</td>\n",
       "    </tr>\n",
       "    <tr>\n",
       "      <th>...</th>\n",
       "      <td>...</td>\n",
       "      <td>...</td>\n",
       "      <td>...</td>\n",
       "      <td>...</td>\n",
       "      <td>...</td>\n",
       "      <td>...</td>\n",
       "      <td>...</td>\n",
       "    </tr>\n",
       "    <tr>\n",
       "      <th>866</th>\n",
       "      <td>1</td>\n",
       "      <td>63</td>\n",
       "      <td>33</td>\n",
       "      <td>115</td>\n",
       "      <td>53</td>\n",
       "      <td>160</td>\n",
       "      <td>1</td>\n",
       "    </tr>\n",
       "    <tr>\n",
       "      <th>867</th>\n",
       "      <td>1</td>\n",
       "      <td>63</td>\n",
       "      <td>94</td>\n",
       "      <td>88</td>\n",
       "      <td>87</td>\n",
       "      <td>78</td>\n",
       "      <td>1</td>\n",
       "    </tr>\n",
       "    <tr>\n",
       "      <th>868</th>\n",
       "      <td>1</td>\n",
       "      <td>97</td>\n",
       "      <td>89</td>\n",
       "      <td>179</td>\n",
       "      <td>107</td>\n",
       "      <td>82</td>\n",
       "      <td>1</td>\n",
       "    </tr>\n",
       "    <tr>\n",
       "      <th>869</th>\n",
       "      <td>1</td>\n",
       "      <td>77</td>\n",
       "      <td>25</td>\n",
       "      <td>179</td>\n",
       "      <td>27</td>\n",
       "      <td>159</td>\n",
       "      <td>1</td>\n",
       "    </tr>\n",
       "    <tr>\n",
       "      <th>870</th>\n",
       "      <td>1</td>\n",
       "      <td>75</td>\n",
       "      <td>83</td>\n",
       "      <td>179</td>\n",
       "      <td>87</td>\n",
       "      <td>111</td>\n",
       "      <td>1</td>\n",
       "    </tr>\n",
       "  </tbody>\n",
       "</table>\n",
       "<p>869 rows × 7 columns</p>\n",
       "</div>"
      ],
      "text/plain": [
       "     AnimalName  symptoms1  symptoms2  symptoms3  symptoms4  symptoms5  \\\n",
       "0             7         63         30        179        181         32   \n",
       "1             7         63         30         31        164        113   \n",
       "2             7         63         30         31        172          8   \n",
       "3             7         63         33         31         87        142   \n",
       "4             7         63         30         31         87         21   \n",
       "..          ...        ...        ...        ...        ...        ...   \n",
       "866           1         63         33        115         53        160   \n",
       "867           1         63         94         88         87         78   \n",
       "868           1         97         89        179        107         82   \n",
       "869           1         77         25        179         27        159   \n",
       "870           1         75         83        179         87        111   \n",
       "\n",
       "     Dangerous  \n",
       "0            1  \n",
       "1            1  \n",
       "2            1  \n",
       "3            1  \n",
       "4            1  \n",
       "..         ...  \n",
       "866          1  \n",
       "867          1  \n",
       "868          1  \n",
       "869          1  \n",
       "870          1  \n",
       "\n",
       "[869 rows x 7 columns]"
      ]
     },
     "execution_count": 22,
     "metadata": {},
     "output_type": "execute_result"
    }
   ],
   "source": [
    "data"
   ]
  },
  {
   "cell_type": "markdown",
   "metadata": {
    "papermill": {
     "duration": 0.014117,
     "end_time": "2023-11-13T12:59:49.283500",
     "exception": false,
     "start_time": "2023-11-13T12:59:49.269383",
     "status": "completed"
    },
    "tags": []
   },
   "source": [
    "# Data Splitting"
   ]
  },
  {
   "cell_type": "code",
   "execution_count": 23,
   "metadata": {
    "execution": {
     "iopub.execute_input": "2023-11-13T12:59:49.314305Z",
     "iopub.status.busy": "2023-11-13T12:59:49.313832Z",
     "iopub.status.idle": "2023-11-13T12:59:49.320836Z",
     "shell.execute_reply": "2023-11-13T12:59:49.319449Z"
    },
    "papermill": {
     "duration": 0.025877,
     "end_time": "2023-11-13T12:59:49.323588",
     "exception": false,
     "start_time": "2023-11-13T12:59:49.297711",
     "status": "completed"
    },
    "tags": []
   },
   "outputs": [],
   "source": [
    "azX = data.iloc[:, :-1]\n",
    "y = data.iloc[:, -1]"
   ]
  },
  {
   "cell_type": "code",
   "execution_count": 24,
   "metadata": {
    "execution": {
     "iopub.execute_input": "2023-11-13T12:59:49.355687Z",
     "iopub.status.busy": "2023-11-13T12:59:49.354473Z",
     "iopub.status.idle": "2023-11-13T12:59:49.477566Z",
     "shell.execute_reply": "2023-11-13T12:59:49.475365Z"
    },
    "papermill": {
     "duration": 0.142347,
     "end_time": "2023-11-13T12:59:49.480443",
     "exception": false,
     "start_time": "2023-11-13T12:59:49.338096",
     "status": "completed"
    },
    "tags": []
   },
   "outputs": [
    {
     "name": "stdout",
     "output_type": "stream",
     "text": [
      "X_train shape is  (695, 6)\n",
      "X_test shape is  (174, 6)\n",
      "y_train shape is  (695,)\n",
      "y_test shape is  (174,)\n"
     ]
    }
   ],
   "source": [
    "from sklearn.model_selection import train_test_split\n",
    "\n",
    "\n",
    "X_train, X_test, y_train, y_test = train_test_split(X, y, test_size=0.20, random_state=44, shuffle =True)\n",
    "\n",
    "\n",
    "print('X_train shape is ' , X_train.shape)\n",
    "print('X_test shape is ' , X_test.shape)\n",
    "print('y_train shape is ' , y_train.shape)\n",
    "print('y_test shape is ' , y_test.shape)"
   ]
  },
  {
   "cell_type": "code",
   "execution_count": 25,
   "metadata": {
    "execution": {
     "iopub.execute_input": "2023-11-13T12:59:49.542840Z",
     "iopub.status.busy": "2023-11-13T12:59:49.542342Z",
     "iopub.status.idle": "2023-11-13T12:59:51.251718Z",
     "shell.execute_reply": "2023-11-13T12:59:51.250468Z"
    },
    "papermill": {
     "duration": 1.728721,
     "end_time": "2023-11-13T12:59:51.254477",
     "exception": false,
     "start_time": "2023-11-13T12:59:49.525756",
     "status": "completed"
    },
    "tags": []
   },
   "outputs": [
    {
     "name": "stdout",
     "output_type": "stream",
     "text": [
      "for Model GaussianNB\n",
      "Train Score is : 0.9741007194244604\n",
      "Test Score is : 0.9885057471264368\n",
      "Classification Report is : \n",
      "               precision    recall  f1-score   support\n",
      "\n",
      "           0       0.00      0.00      0.00         2\n",
      "           1       0.99      1.00      0.99       172\n",
      "\n",
      "    accuracy                           0.99       174\n",
      "   macro avg       0.49      0.50      0.50       174\n",
      "weighted avg       0.98      0.99      0.98       174\n",
      "\n",
      "Precision value is  : 0.49\n",
      "Recall value is  : 0.50\n",
      "F1 Score value is  : 0.50\n",
      "=================================================\n",
      "for Model KNeighborsClassifier\n",
      "Train Score is : 0.9741007194244604\n",
      "Test Score is : 0.9885057471264368\n",
      "Classification Report is : \n",
      "               precision    recall  f1-score   support\n",
      "\n",
      "           0       0.00      0.00      0.00         2\n",
      "           1       0.99      1.00      0.99       172\n",
      "\n",
      "    accuracy                           0.99       174\n",
      "   macro avg       0.49      0.50      0.50       174\n",
      "weighted avg       0.98      0.99      0.98       174\n",
      "\n",
      "Precision value is  : 0.49\n",
      "Recall value is  : 0.50\n",
      "F1 Score value is  : 0.50\n",
      "=================================================\n",
      "for Model MultinomialNB\n",
      "Train Score is : 0.7669064748201438\n",
      "Test Score is : 0.8045977011494253\n",
      "Classification Report is : \n",
      "               precision    recall  f1-score   support\n",
      "\n",
      "           0       0.00      0.00      0.00         2\n",
      "           1       0.99      0.81      0.89       172\n",
      "\n",
      "    accuracy                           0.80       174\n",
      "   macro avg       0.49      0.41      0.45       174\n",
      "weighted avg       0.97      0.80      0.88       174\n",
      "\n",
      "Precision value is  : 0.49\n",
      "Recall value is  : 0.41\n",
      "F1 Score value is  : 0.45\n",
      "=================================================\n",
      "for Model BernoulliNB\n",
      "Train Score is : 0.9741007194244604\n",
      "Test Score is : 0.9885057471264368\n",
      "Classification Report is : \n",
      "               precision    recall  f1-score   support\n",
      "\n",
      "           0       0.00      0.00      0.00         2\n",
      "           1       0.99      1.00      0.99       172\n",
      "\n",
      "    accuracy                           0.99       174\n",
      "   macro avg       0.49      0.50      0.50       174\n",
      "weighted avg       0.98      0.99      0.98       174\n",
      "\n",
      "Precision value is  : 0.49\n",
      "Recall value is  : 0.50\n",
      "F1 Score value is  : 0.50\n",
      "=================================================\n",
      "for Model LogisticRegression\n",
      "Train Score is : 0.9755395683453237\n",
      "Test Score is : 0.9885057471264368\n",
      "Classification Report is : \n",
      "               precision    recall  f1-score   support\n",
      "\n",
      "           0       0.00      0.00      0.00         2\n",
      "           1       0.99      1.00      0.99       172\n",
      "\n",
      "    accuracy                           0.99       174\n",
      "   macro avg       0.49      0.50      0.50       174\n",
      "weighted avg       0.98      0.99      0.98       174\n",
      "\n",
      "Precision value is  : 0.49\n",
      "Recall value is  : 0.50\n",
      "F1 Score value is  : 0.50\n",
      "=================================================\n",
      "for Model RandomForestClassifier\n",
      "Train Score is : 0.9971223021582734\n",
      "Test Score is : 0.9942528735632183\n",
      "Classification Report is : \n",
      "               precision    recall  f1-score   support\n",
      "\n",
      "           0       1.00      0.50      0.67         2\n",
      "           1       0.99      1.00      1.00       172\n",
      "\n",
      "    accuracy                           0.99       174\n",
      "   macro avg       1.00      0.75      0.83       174\n",
      "weighted avg       0.99      0.99      0.99       174\n",
      "\n",
      "Precision value is  : 1.00\n",
      "Recall value is  : 0.75\n",
      "F1 Score value is  : 0.83\n",
      "=================================================\n",
      "for Model GradientBoostingClassifier\n",
      "Train Score is : 1.0\n",
      "Test Score is : 0.9942528735632183\n",
      "Classification Report is : \n",
      "               precision    recall  f1-score   support\n",
      "\n",
      "           0       1.00      0.50      0.67         2\n",
      "           1       0.99      1.00      1.00       172\n",
      "\n",
      "    accuracy                           0.99       174\n",
      "   macro avg       1.00      0.75      0.83       174\n",
      "weighted avg       0.99      0.99      0.99       174\n",
      "\n",
      "Precision value is  : 1.00\n",
      "Recall value is  : 0.75\n",
      "F1 Score value is  : 0.83\n",
      "=================================================\n",
      "for Model QuadraticDiscriminantAnalysis\n",
      "Train Score is : 0.9798561151079137\n",
      "Test Score is : 0.9885057471264368\n",
      "Classification Report is : \n",
      "               precision    recall  f1-score   support\n",
      "\n",
      "           0       0.00      0.00      0.00         2\n",
      "           1       0.99      1.00      0.99       172\n",
      "\n",
      "    accuracy                           0.99       174\n",
      "   macro avg       0.49      0.50      0.50       174\n",
      "weighted avg       0.98      0.99      0.98       174\n",
      "\n",
      "Precision value is  : 0.49\n",
      "Recall value is  : 0.50\n",
      "F1 Score value is  : 0.50\n",
      "=================================================\n",
      "for Model SVC\n",
      "Train Score is : 1.0\n",
      "Test Score is : 0.9885057471264368\n",
      "Classification Report is : \n",
      "               precision    recall  f1-score   support\n",
      "\n",
      "           0       0.00      0.00      0.00         2\n",
      "           1       0.99      1.00      0.99       172\n",
      "\n",
      "    accuracy                           0.99       174\n",
      "   macro avg       0.49      0.50      0.50       174\n",
      "weighted avg       0.98      0.99      0.98       174\n",
      "\n",
      "Precision value is  : 0.49\n",
      "Recall value is  : 0.50\n",
      "F1 Score value is  : 0.50\n",
      "=================================================\n",
      "for Model DecisionTreeClassifier\n",
      "Train Score is : 0.9841726618705036\n",
      "Test Score is : 0.9942528735632183\n",
      "Classification Report is : \n",
      "               precision    recall  f1-score   support\n",
      "\n",
      "           0       1.00      0.50      0.67         2\n",
      "           1       0.99      1.00      1.00       172\n",
      "\n",
      "    accuracy                           0.99       174\n",
      "   macro avg       1.00      0.75      0.83       174\n",
      "weighted avg       0.99      0.99      0.99       174\n",
      "\n",
      "Precision value is  : 1.00\n",
      "Recall value is  : 0.75\n",
      "F1 Score value is  : 0.83\n",
      "=================================================\n"
     ]
    }
   ],
   "source": [
    "GaussianNBModel = GaussianNB()\n",
    "MultinomialNBModel = MultinomialNB(alpha=1.0)\n",
    "BernoulliNBModel = BernoulliNB(alpha=1.0,binarize=1)\n",
    "LogisticRegressionModel = LogisticRegression(penalty='l2',solver='sag',C=1.0,random_state=33)\n",
    "RandomForestClassifierModel = RandomForestClassifier(criterion = 'gini',n_estimators=300,max_depth=7,random_state=33) \n",
    "GBCModel = GradientBoostingClassifier(n_estimators=100,max_depth=3,random_state=33) \n",
    "QDAModel = QuadraticDiscriminantAnalysis(tol=0.0001)\n",
    "SVCModel = SVC(kernel= 'rbf',max_iter=100,C=1.0,gamma='auto')\n",
    "DecisionTreeClassifierModel = DecisionTreeClassifier(criterion='gini',max_depth=3,random_state=33)\n",
    "KNNClassifierModel = KNeighborsClassifier(n_neighbors= 5,weights ='uniform',algorithm='auto') \n",
    "\n",
    "Models = [GaussianNBModel,KNNClassifierModel,MultinomialNBModel,\n",
    "          BernoulliNBModel,LogisticRegressionModel,RandomForestClassifierModel,\n",
    "          GBCModel,QDAModel,SVCModel,DecisionTreeClassifierModel]\n",
    "\n",
    "\n",
    "\n",
    "\n",
    "ModelsScore = {}\n",
    "for Model in Models : \n",
    "    print(f'for Model {str(Model).split(\"(\")[0]}')\n",
    "    Model.fit(X_train, y_train)\n",
    "    print(f'Train Score is : {Model.score(X_train, y_train)}')\n",
    "    print(f'Test Score is : {Model.score(X_test, y_test)}')\n",
    "    y_pred = Model.predict(X_test)\n",
    "    ClassificationReport = classification_report(y_test,y_pred)\n",
    "    print('Classification Report is : \\n', ClassificationReport )\n",
    "    print(f'Precision value is  : {ClassificationReport.split()[19]}')\n",
    "    print(f'Recall value is  : {ClassificationReport.split()[20]}')\n",
    "    print(f'F1 Score value is  : {ClassificationReport.split()[21]}')\n",
    "    ModelsScore[str(Model).split(\"(\")[0]] = [ClassificationReport.split()[19],\n",
    "                                             ClassificationReport.split()[20],ClassificationReport.split()[21]]\n",
    "    print('=================================================')    "
   ]
  },
  {
   "cell_type": "code",
   "execution_count": 30,
   "metadata": {
    "papermill": {
     "duration": 0.015138,
     "end_time": "2023-11-13T12:59:51.285076",
     "exception": false,
     "start_time": "2023-11-13T12:59:51.269938",
     "status": "completed"
    },
    "tags": []
   },
   "outputs": [
    {
     "name": "stdout",
     "output_type": "stream",
     "text": [
      "Ensemble Model Test Score: 0.9885057471264368\n",
      "Classification Report for Ensemble Model:\n",
      "               precision    recall  f1-score   support\n",
      "\n",
      "           0       0.00      0.00      0.00         2\n",
      "           1       0.99      1.00      0.99       172\n",
      "\n",
      "    accuracy                           0.99       174\n",
      "   macro avg       0.49      0.50      0.50       174\n",
      "weighted avg       0.98      0.99      0.98       174\n",
      "\n"
     ]
    }
   ],
   "source": [
    "from sklearn.ensemble import VotingClassifier\n",
    "\n",
    "models = [('GaussianNB', GaussianNBModel),\n",
    "          ('KNNClassifier', KNNClassifierModel),\n",
    "          ('MultinomialNB', MultinomialNBModel),\n",
    "          ('BernoulliNB', BernoulliNBModel),\n",
    "          ('LogisticRegression', LogisticRegressionModel),\n",
    "          ('RandomForestClassifier', RandomForestClassifierModel),\n",
    "          ('GBC', GBCModel),\n",
    "          ('QDA', QDAModel),\n",
    "          ('SVC', SVCModel),\n",
    "          ('DecisionTreeClassifier', DecisionTreeClassifierModel)]\n",
    "\n",
    "\n",
    "ensemble_model = VotingClassifier(estimators=models, voting='hard')  \n",
    "\n",
    "\n",
    "ensemble_model.fit(X_train, y_train)\n",
    "\n",
    "\n",
    "ensemble_score = ensemble_model.score(X_test, y_test)\n",
    "print(f'Ensemble Model Test Score: {ensemble_score}')\n",
    "\n",
    "y_pred_ensemble = ensemble_model.predict(X_test)\n",
    "classification_report_ensemble = classification_report(y_test, y_pred_ensemble)\n",
    "print('Classification Report for Ensemble Model:\\n', classification_report_ensemble)\n",
    "\n"
   ]
  },
  {
   "cell_type": "code",
   "execution_count": null,
   "metadata": {},
   "outputs": [],
   "source": []
  }
 ],
 "metadata": {
  "kernelspec": {
   "display_name": "Python 3",
   "language": "python",
   "name": "python3"
  },
  "language_info": {
   "codemirror_mode": {
    "name": "ipython",
    "version": 3
   },
   "file_extension": ".py",
   "mimetype": "text/x-python",
   "name": "python",
   "nbconvert_exporter": "python",
   "pygments_lexer": "ipython3",
   "version": "3.8.5"
  },
  "papermill": {
   "default_parameters": {},
   "duration": 10.012257,
   "end_time": "2023-11-13T12:59:52.024990",
   "environment_variables": {},
   "exception": null,
   "input_path": "__notebook__.ipynb",
   "output_path": "__notebook__.ipynb",
   "parameters": {},
   "start_time": "2023-11-13T12:59:42.012733",
   "version": "2.4.0"
  }
 },
 "nbformat": 4,
 "nbformat_minor": 5
}
